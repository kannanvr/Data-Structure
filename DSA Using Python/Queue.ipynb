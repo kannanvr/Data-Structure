{
 "cells": [
  {
   "cell_type": "code",
   "execution_count": null,
   "metadata": {},
   "outputs": [],
   "source": [
    "#we can acheive the queue implementation using list methods\n",
    "l=list(map(int,input().split(' ')))\n",
    "flag=0\n",
    "while flag!=3:\n",
    "    n=int(input(\"1. Push\\n2.Pop\\n3.Print\\n4.Exit\\n \"))\n",
    "    if n==1:\n",
    "        l.append(input('Enter the elememt to be push'))\n",
    "    elif n==2:\n",
    "        print(\"Poped Element is :\",l.pop(0))\n",
    "    elif n==3:\n",
    "        print(l)\n",
    "    elif n==4:\n",
    "        break\n",
    "    else:\n",
    "        print(\"Wrong Choice!\")\n"
   ]
  },
  {
   "cell_type": "code",
   "execution_count": 54,
   "metadata": {},
   "outputs": [],
   "source": [
    "import queue \n",
    "L = queue.Queue(maxsize=6) "
   ]
  },
  {
   "cell_type": "code",
   "execution_count": 55,
   "metadata": {},
   "outputs": [
    {
     "name": "stdout",
     "output_type": "stream",
     "text": [
      "0\n"
     ]
    }
   ],
   "source": [
    "# qsize() give the maxsize \n",
    "# of the Queue \n",
    "print(L.qsize()) \n",
    "\n",
    "L.put(5) \n",
    "L.put(9) \n",
    "L.put(1) \n",
    "L.put(7) \n",
    "\n"
   ]
  },
  {
   "cell_type": "code",
   "execution_count": 56,
   "metadata": {},
   "outputs": [
    {
     "name": "stdout",
     "output_type": "stream",
     "text": [
      "Full:  False\n",
      "Full:  True\n",
      "5\n",
      "9\n",
      "1\n"
     ]
    }
   ],
   "source": [
    "# Return Boolean for Full \n",
    "# Queue \n",
    "print(\"Full: \", L.full()) \n",
    "\n",
    "L.put(9) \n",
    "L.put(10) \n",
    "print(\"Full: \", L.full()) \n",
    "\n",
    "print(L.get()) \n",
    "print(L.get()) \n",
    "print(L.get()) \n",
    "\n"
   ]
  },
  {
   "cell_type": "code",
   "execution_count": 57,
   "metadata": {},
   "outputs": [
    {
     "name": "stdout",
     "output_type": "stream",
     "text": [
      "Empty:  False\n",
      "7\n",
      "9\n",
      "10\n",
      "Empty:  True\n",
      "Full:  False\n"
     ]
    }
   ],
   "source": [
    "# Return Boolean for Empty \n",
    "# Queue \n",
    "print(\"Empty: \", L.empty()) \n",
    "\n",
    "print(L.get()) \n",
    "print(L.get()) \n",
    "print(L.get()) \n",
    "\n",
    "print(\"Empty: \", L.empty()) \n",
    "print(\"Full: \", L.full()) \n",
    "\n",
    "# This would result into Infinite \n",
    "# Loop as the Queue is empty. \n",
    "# print(L.get()) \n"
   ]
  },
  {
   "cell_type": "code",
   "execution_count": 23,
   "metadata": {},
   "outputs": [],
   "source": [
    "from queue import PriorityQueue\n",
    "Q=PriorityQueue() \n",
    "\n",
    "'''\n",
    "queue.Queue(maxsize=0)\n",
    "Constructor for a FIFO queue.\n",
    "\n",
    "queue.LifoQueue(maxsize=0)\n",
    "Constructor for a LIFO\n",
    "\n",
    "PriorityQueue(maxsize=0)\n",
    "Constructor for a priority queue\n",
    "'''"
   ]
  },
  {
   "cell_type": "code",
   "execution_count": 24,
   "metadata": {},
   "outputs": [
    {
     "data": {
      "text/plain": [
       "['__class__',\n",
       " '__delattr__',\n",
       " '__dict__',\n",
       " '__dir__',\n",
       " '__doc__',\n",
       " '__eq__',\n",
       " '__format__',\n",
       " '__ge__',\n",
       " '__getattribute__',\n",
       " '__gt__',\n",
       " '__hash__',\n",
       " '__init__',\n",
       " '__init_subclass__',\n",
       " '__le__',\n",
       " '__lt__',\n",
       " '__module__',\n",
       " '__ne__',\n",
       " '__new__',\n",
       " '__reduce__',\n",
       " '__reduce_ex__',\n",
       " '__repr__',\n",
       " '__setattr__',\n",
       " '__sizeof__',\n",
       " '__str__',\n",
       " '__subclasshook__',\n",
       " '__weakref__',\n",
       " '_get',\n",
       " '_init',\n",
       " '_put',\n",
       " '_qsize',\n",
       " 'all_tasks_done',\n",
       " 'empty',\n",
       " 'full',\n",
       " 'get',\n",
       " 'get_nowait',\n",
       " 'join',\n",
       " 'maxsize',\n",
       " 'mutex',\n",
       " 'not_empty',\n",
       " 'not_full',\n",
       " 'put',\n",
       " 'put_nowait',\n",
       " 'qsize',\n",
       " 'queue',\n",
       " 'task_done',\n",
       " 'unfinished_tasks']"
      ]
     },
     "execution_count": 24,
     "metadata": {},
     "output_type": "execute_result"
    }
   ],
   "source": [
    "dir(Q)"
   ]
  },
  {
   "cell_type": "code",
   "execution_count": 25,
   "metadata": {},
   "outputs": [
    {
     "data": {
      "text/plain": [
       "True"
      ]
     },
     "execution_count": 25,
     "metadata": {},
     "output_type": "execute_result"
    }
   ],
   "source": [
    "Q.empty() #used to check status of the queue"
   ]
  },
  {
   "cell_type": "code",
   "execution_count": 26,
   "metadata": {},
   "outputs": [],
   "source": [
    "#push the element into the p queue\n",
    "Q.put((1,\"python\")) #we have to pass tuple to the put method 1at arg denotes parameter and 2nd arg denotes value"
   ]
  },
  {
   "cell_type": "code",
   "execution_count": 27,
   "metadata": {},
   "outputs": [],
   "source": [
    "Q.put((4,\"Swift\"))\n",
    "Q.put((2,\"Java script\"))\n",
    "Q.put((3,\"Java\"))"
   ]
  },
  {
   "cell_type": "code",
   "execution_count": 28,
   "metadata": {},
   "outputs": [
    {
     "data": {
      "text/plain": [
       "False"
      ]
     },
     "execution_count": 28,
     "metadata": {},
     "output_type": "execute_result"
    }
   ],
   "source": [
    "Q.empty()"
   ]
  },
  {
   "cell_type": "code",
   "execution_count": 29,
   "metadata": {},
   "outputs": [
    {
     "name": "stdout",
     "output_type": "stream",
     "text": [
      "<queue.PriorityQueue object at 0x000001471710FBE0>\n"
     ]
    }
   ],
   "source": [
    "print(Q)"
   ]
  },
  {
   "cell_type": "code",
   "execution_count": 30,
   "metadata": {},
   "outputs": [
    {
     "data": {
      "text/plain": [
       "(1, 'python')"
      ]
     },
     "execution_count": 30,
     "metadata": {},
     "output_type": "execute_result"
    }
   ],
   "source": [
    "Q.get() #used to pop element from the queue qccording to priority"
   ]
  },
  {
   "cell_type": "code",
   "execution_count": 31,
   "metadata": {},
   "outputs": [
    {
     "data": {
      "text/plain": [
       "False"
      ]
     },
     "execution_count": 31,
     "metadata": {},
     "output_type": "execute_result"
    }
   ],
   "source": [
    "Q.full()"
   ]
  },
  {
   "cell_type": "code",
   "execution_count": 33,
   "metadata": {},
   "outputs": [
    {
     "data": {
      "text/plain": [
       "0"
      ]
     },
     "execution_count": 33,
     "metadata": {},
     "output_type": "execute_result"
    }
   ],
   "source": [
    "Q.maxsize"
   ]
  },
  {
   "cell_type": "code",
   "execution_count": 46,
   "metadata": {},
   "outputs": [
    {
     "data": {
      "text/plain": [
       "3"
      ]
     },
     "execution_count": 46,
     "metadata": {},
     "output_type": "execute_result"
    }
   ],
   "source": [
    "Q.qsize()"
   ]
  },
  {
   "cell_type": "code",
   "execution_count": 49,
   "metadata": {},
   "outputs": [
    {
     "name": "stdout",
     "output_type": "stream",
     "text": [
      "(2, 'Java script')\n",
      "(3, 'Java')\n",
      "(4, 'Swift')\n"
     ]
    }
   ],
   "source": [
    "for i in range(Q.qsize()):\n",
    "    print(Q.get())"
   ]
  },
  {
   "cell_type": "code",
   "execution_count": 58,
   "metadata": {},
   "outputs": [
    {
     "name": "stdout",
     "output_type": "stream",
     "text": [
      "0\n",
      "Full:  True\n",
      "Size:  6\n",
      "10\n",
      "9\n",
      "7\n",
      "1\n",
      "9\n",
      "Empty:  False\n"
     ]
    }
   ],
   "source": [
    "import queue \n",
    "\n",
    "L = queue.LifoQueue(maxsize=6) \n",
    "\n",
    "# qsize() give the maxsize of \n",
    "# the Queue \n",
    "print(L.qsize()) \n",
    "\n",
    "# Data Inserted as 5->9->1->7, \n",
    "# same as Queue \n",
    "L.put(5) \n",
    "L.put(9) \n",
    "L.put(1) \n",
    "L.put(7) \n",
    "L.put(9) \n",
    "L.put(10) \n",
    "print(\"Full: \", L.full()) \n",
    "print(\"Size: \", L.qsize()) \n",
    "\n",
    "# Data will be accessed in the \n",
    "# reverse order Reverse of that \n",
    "# of Queue \n",
    "print(L.get()) \n",
    "print(L.get()) \n",
    "print(L.get()) \n",
    "print(L.get()) \n",
    "print(L.get()) \n",
    "print(\"Empty: \", L.empty()) \n"
   ]
  },
  {
   "cell_type": "code",
   "execution_count": 60,
   "metadata": {},
   "outputs": [
    {
     "name": "stdout",
     "output_type": "stream",
     "text": [
      "1 5 10 12\n",
      "29\n"
     ]
    }
   ],
   "source": [
    "lst=list(map(int,input().split()))\n",
    "s1,s2,s3,s4=lst[0],lst[1],lst[2],lst[3]\n",
    "total_time=0\n",
    "total_time+=s4   #formed pair with s1 and s4 and added max(s1,s4)\n",
    "total_time+=s1 #add the time taken to be back which is min(s1,s4)\n",
    "total_time+=s3   #formed pair with s1 and s3 and added max(s1,s3)\n",
    "total_time+=s1 #add the time taken to be back which is min(s1,s3)\n",
    "total_time+=s2  #formed pair with s1 and s2 and added max(s1,s2)\n",
    "print(total_time)"
   ]
  },
  {
   "cell_type": "code",
   "execution_count": null,
   "metadata": {},
   "outputs": [],
   "source": []
  }
 ],
 "metadata": {
  "kernelspec": {
   "display_name": "Python 3",
   "language": "python",
   "name": "python3"
  },
  "language_info": {
   "codemirror_mode": {
    "name": "ipython",
    "version": 3
   },
   "file_extension": ".py",
   "mimetype": "text/x-python",
   "name": "python",
   "nbconvert_exporter": "python",
   "pygments_lexer": "ipython3",
   "version": "3.7.3"
  }
 },
 "nbformat": 4,
 "nbformat_minor": 2
}
